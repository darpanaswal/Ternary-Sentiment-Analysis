{
  "cells": [
    {
      "cell_type": "code",
      "execution_count": null,
      "metadata": {
        "colab": {
          "base_uri": "https://localhost:8080/"
        },
        "id": "8mPgzEQXxhVH",
        "outputId": "70916012-f56b-4365-cd03-1b2c7b69277f"
      },
      "outputs": [
        {
          "name": "stdout",
          "output_type": "stream",
          "text": [
            "Looking in indexes: https://pypi.org/simple, https://us-python.pkg.dev/colab-wheels/public/simple/\n",
            "Collecting git+https://www.github.com/keras-team/keras-contrib.git\n",
            "  Cloning https://www.github.com/keras-team/keras-contrib.git to /tmp/pip-req-build-au10vwje\n",
            "  Running command git clone -q https://www.github.com/keras-team/keras-contrib.git /tmp/pip-req-build-au10vwje\n",
            "Requirement already satisfied: keras in /usr/local/lib/python3.7/dist-packages (from keras-contrib==2.0.8) (2.8.0)\n",
            "Building wheels for collected packages: keras-contrib\n",
            "  Building wheel for keras-contrib (setup.py) ... \u001b[?25l\u001b[?25hdone\n",
            "  Created wheel for keras-contrib: filename=keras_contrib-2.0.8-py3-none-any.whl size=101077 sha256=ea6dda8d1c81eb2418bdaed02cb6f8c1ff723329eafb7b15230043fb0e0c6f81\n",
            "  Stored in directory: /tmp/pip-ephem-wheel-cache-re82f3wz/wheels/bb/1f/f2/b57495012683b6b20bbae94a3915ec79753111452d79886abc\n",
            "Successfully built keras-contrib\n",
            "Installing collected packages: keras-contrib\n",
            "Successfully installed keras-contrib-2.0.8\n"
          ]
        }
      ],
      "source": [
        "!pip install git+https://www.github.com/keras-team/keras-contrib.git"
      ]
    },
    {
      "cell_type": "code",
      "execution_count": 23,
      "metadata": {
        "id": "NGtjJH-aU70k"
      },
      "outputs": [],
      "source": [
        "import re\n",
        "import nltk\n",
        "import warnings\n",
        "import pandas as pd \n",
        "from tqdm import tqdm\n",
        "from nltk.corpus import stopwords                     \n",
        "from nltk.tokenize import word_tokenize\n",
        "from nltk.stem.porter import PorterStemmer\n",
        "from sklearn.model_selection import train_test_split\n",
        "\n",
        "from keras.models import Model\n",
        "from keras.models import Sequential\n",
        "from keras.preprocessing import sequence\n",
        "from keras.callbacks import EarlyStopping\n",
        "from keras.preprocessing.text import Tokenizer\n",
        "from tensorflow.keras.utils import to_categorical\n",
        "from keras.preprocessing.sequence import pad_sequences  \n",
        "from keras.layers import Input, Dense, Flatten, Dropout, LSTM, Embedding, Bidirectional, BatchNormalization, TimeDistributed\n",
        "\n",
        "warnings.filterwarnings(\"ignore\", category = UserWarning, module = 'bs4')"
      ]
    },
    {
      "cell_type": "code",
      "execution_count": 24,
      "metadata": {
        "id": "Vlm2-ciZU707"
      },
      "outputs": [],
      "source": [
        "df = pd.read_csv(\"data.csv\")\n",
        "df.columns = ['Phrase', 'Sentiment']"
      ]
    },
    {
      "cell_type": "code",
      "execution_count": 25,
      "metadata": {
        "id": "7InECYbjXpVI"
      },
      "outputs": [],
      "source": [
        "def clean(df):\n",
        "  nltk.download('stopwords')\n",
        "  for i in range(df.shape[0]):\n",
        "    review = re.sub('[^a-zA-Z]', ' ', df['Phrase'][i])\n",
        "    review = review.lower()\n",
        "    review = review.split()\n",
        "    ps = PorterStemmer()\n",
        "    all_stopwords = stopwords.words('english')\n",
        "    all_stopwords.remove('not')\n",
        "    review = [ps.stem(word) for word in review if not word in set(all_stopwords)]\n",
        "    review = ' '.join(review)\n",
        "    df['Phrase'][i] = review\n",
        "  return df"
      ]
    },
    {
      "cell_type": "code",
      "execution_count": 26,
      "metadata": {
        "colab": {
          "base_uri": "https://localhost:8080/"
        },
        "id": "8u2oMZdxxzKz",
        "outputId": "b0c79cc6-0024-4f85-f854-8370fa8109df"
      },
      "outputs": [
        {
          "output_type": "stream",
          "name": "stderr",
          "text": [
            "[nltk_data] Downloading package stopwords to /root/nltk_data...\n",
            "[nltk_data]   Package stopwords is already up-to-date!\n"
          ]
        }
      ],
      "source": [
        "data = clean(df)\n",
        "df = data\n",
        "encoded_dict = {'negative': 0, 'neutral': 1, 'positive': 2}\n",
        "df['Sentiment'] = df.Sentiment.map(encoded_dict)"
      ]
    },
    {
      "cell_type": "code",
      "execution_count": 47,
      "metadata": {
        "id": "RfxYzC8CU71C"
      },
      "outputs": [],
      "source": [
        "X = df.Phrase.values\n",
        "y = df.Sentiment.values\n",
        "y = to_categorical(y)\n",
        "num_sentiments = y.shape[1]\n",
        "\n",
        "X_train, X_test, y_train, y_test = train_test_split(X, y, test_size = 0.2, stratify = y)"
      ]
    },
    {
      "cell_type": "code",
      "execution_count": 48,
      "metadata": {
        "colab": {
          "base_uri": "https://localhost:8080/"
        },
        "id": "N6Jio0IlU71F",
        "outputId": "c9c2f682-6528-49c9-ecda-5c8b2226bd99"
      },
      "outputs": [
        {
          "output_type": "stream",
          "name": "stderr",
          "text": [
            "100%|██████████| 4673/4673 [00:00<00:00, 463455.17it/s]"
          ]
        },
        {
          "output_type": "stream",
          "name": "stdout",
          "text": [
            "\n",
            "\n",
            "27\n",
            "225\n"
          ]
        },
        {
          "output_type": "stream",
          "name": "stderr",
          "text": [
            "\n"
          ]
        }
      ],
      "source": [
        "unique_words = set()\n",
        "len_max = 0\n",
        "\n",
        "for sent in tqdm(X_train):\n",
        "  unique_words.update(sent)\n",
        "  if(len_max < len(sent)):\n",
        "    len_max = len(sent)\n",
        "\n",
        "print(\"\\n\")\n",
        "print(len(list(unique_words)))\n",
        "print(len_max)"
      ]
    },
    {
      "cell_type": "code",
      "execution_count": 49,
      "metadata": {
        "colab": {
          "base_uri": "https://localhost:8080/"
        },
        "id": "gB5dl7JsU71G",
        "outputId": "7217dbeb-bad1-478f-d4bc-b7230507b14b"
      },
      "outputs": [
        {
          "output_type": "execute_result",
          "data": {
            "text/plain": [
              "((4673, 225), (1169, 225))"
            ]
          },
          "metadata": {},
          "execution_count": 49
        }
      ],
      "source": [
        "tokenizer = Tokenizer(num_words = len(list(unique_words)), oov_token = 'OOV', char_level = False)\n",
        "tokenizer.fit_on_texts(list(X_train))\n",
        "\n",
        "X_train = tokenizer.texts_to_sequences(X_train)\n",
        "X_test = tokenizer.texts_to_sequences(X_test)\n",
        "\n",
        "X_train = pad_sequences(X_train, maxlen = len_max, padding = 'post', truncating = 'post')\n",
        "X_test = pad_sequences(X_test, maxlen = len_max, padding = 'post', truncating = 'post')\n",
        "\n",
        "X_train.shape, X_test.shape"
      ]
    },
    {
      "cell_type": "code",
      "execution_count": 50,
      "metadata": {
        "id": "1wfbGeh3U71H"
      },
      "outputs": [],
      "source": [
        "es = EarlyStopping(monitor = 'val_loss', mode = 'min', verbose = 1, patience = 2)"
      ]
    },
    {
      "cell_type": "code",
      "execution_count": 59,
      "metadata": {
        "id": "jEE5Vei6U71I"
      },
      "outputs": [],
      "source": [
        "def bilstm():\n",
        "  model = Sequential([\n",
        "    Embedding(len(list(unique_words)), 300, input_length = len_max),\n",
        "    Bidirectional(LSTM(128, return_sequences = True)),\n",
        "    Bidirectional(LSTM(64, return_sequences = False)),\n",
        "    Dense(128, activation = 'relu'),\n",
        "    Dense(num_sentiments, activation = 'softmax')])\n",
        "  \n",
        "  model.compile(loss = 'categorical_crossentropy', optimizer = 'adam', metrics = ['accuracy'])\n",
        "  return model"
      ]
    },
    {
      "cell_type": "code",
      "execution_count": 60,
      "metadata": {
        "colab": {
          "base_uri": "https://localhost:8080/"
        },
        "id": "gOfCNUUd3mDQ",
        "outputId": "0321c031-8cb0-429a-fa50-8a4166f11bb7"
      },
      "outputs": [
        {
          "output_type": "stream",
          "name": "stdout",
          "text": [
            "Epoch 1/15\n",
            "19/19 [==============================] - 9s 199ms/step - loss: 0.9951 - accuracy: 0.5251 - val_loss: 0.9740 - val_accuracy: 0.5355\n",
            "Epoch 2/15\n",
            "19/19 [==============================] - 2s 125ms/step - loss: 0.9735 - accuracy: 0.5358 - val_loss: 0.9647 - val_accuracy: 0.5355\n",
            "Epoch 3/15\n",
            "19/19 [==============================] - 2s 125ms/step - loss: 0.9605 - accuracy: 0.5363 - val_loss: 0.9408 - val_accuracy: 0.5620\n",
            "Epoch 4/15\n",
            "19/19 [==============================] - 2s 127ms/step - loss: 0.9440 - accuracy: 0.5624 - val_loss: 0.9347 - val_accuracy: 0.5654\n",
            "Epoch 5/15\n",
            "19/19 [==============================] - 2s 124ms/step - loss: 0.9282 - accuracy: 0.5673 - val_loss: 0.9248 - val_accuracy: 0.5757\n",
            "Epoch 6/15\n",
            "19/19 [==============================] - 2s 126ms/step - loss: 0.9183 - accuracy: 0.5664 - val_loss: 0.9230 - val_accuracy: 0.5749\n",
            "Epoch 7/15\n",
            "19/19 [==============================] - 2s 125ms/step - loss: 0.9157 - accuracy: 0.5688 - val_loss: 0.9244 - val_accuracy: 0.5749\n",
            "Epoch 8/15\n",
            "19/19 [==============================] - 2s 124ms/step - loss: 0.9097 - accuracy: 0.5694 - val_loss: 0.9260 - val_accuracy: 0.5791\n",
            "Epoch 8: early stopping\n"
          ]
        }
      ],
      "source": [
        "model1 = bilstm()\n",
        "history = model1.fit(X_train, y_train, validation_data = (X_test, y_test), epochs = 15, batch_size = 256, callbacks = [es])"
      ]
    }
  ],
  "metadata": {
    "accelerator": "GPU",
    "colab": {
      "collapsed_sections": [],
      "name": "BILSTM.ipynb",
      "provenance": []
    },
    "gpuClass": "standard",
    "kernelspec": {
      "display_name": "Python 3",
      "language": "python",
      "name": "python3"
    },
    "language_info": {
      "codemirror_mode": {
        "name": "ipython",
        "version": 3
      },
      "file_extension": ".py",
      "mimetype": "text/x-python",
      "name": "python",
      "nbconvert_exporter": "python",
      "pygments_lexer": "ipython3",
      "version": "3.6.6"
    }
  },
  "nbformat": 4,
  "nbformat_minor": 0
}