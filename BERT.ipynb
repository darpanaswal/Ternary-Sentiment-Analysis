{
  "nbformat": 4,
  "nbformat_minor": 0,
  "metadata": {
    "colab": {
      "name": "BERT2.ipynb",
      "provenance": [],
      "collapsed_sections": []
    },
    "kernelspec": {
      "name": "python3",
      "display_name": "Python 3"
    },
    "language_info": {
      "name": "python"
    },
    "accelerator": "GPU",
    "gpuClass": "standard"
  },
  "cells": [
    {
      "cell_type": "code",
      "execution_count": 1,
      "metadata": {
        "id": "1jWua5LDvX1a"
      },
      "outputs": [],
      "source": [
        "!wget --quiet https://raw.githubusercontent.com/tensorflow/models/master/official/nlp/bert/tokenization.py"
      ]
    },
    {
      "cell_type": "code",
      "source": [
        "!pip install bert-tensorflow==1.0.1"
      ],
      "metadata": {
        "colab": {
          "base_uri": "https://localhost:8080/"
        },
        "id": "oCOrxTJswy3j",
        "outputId": "00c3d4ed-63ab-4b2d-e8c3-61a5d8905061"
      },
      "execution_count": 2,
      "outputs": [
        {
          "output_type": "stream",
          "name": "stdout",
          "text": [
            "Looking in indexes: https://pypi.org/simple, https://us-python.pkg.dev/colab-wheels/public/simple/\n",
            "Requirement already satisfied: bert-tensorflow==1.0.1 in /usr/local/lib/python3.7/dist-packages (1.0.1)\n",
            "Requirement already satisfied: six in /usr/local/lib/python3.7/dist-packages (from bert-tensorflow==1.0.1) (1.15.0)\n"
          ]
        }
      ]
    },
    {
      "cell_type": "code",
      "source": [
        "import re\n",
        "import nltk\n",
        "import logging\n",
        "import warnings\n",
        "import numpy as np\n",
        "import pandas as pd\n",
        "from tqdm import tqdm\n",
        "import tensorflow as tf\n",
        "tf.gfile = tf.io.gfile\n",
        "import tensorflow_hub as hub\n",
        "from bert import tokenization\n",
        "from keras.models import Model        \n",
        "from nltk.corpus import stopwords \n",
        "from nltk.tokenize import word_tokenize\n",
        "from keras.callbacks import EarlyStopping            \n",
        "from nltk.stem.porter import PorterStemmer\n",
        "from keras.layers import Input, Dense, Dropout\n",
        "from tensorflow.keras.utils import to_categorical\n",
        "\n",
        "warnings.filterwarnings(\"ignore\", category = UserWarning, module = 'bs4')"
      ],
      "metadata": {
        "id": "39SrUu3Fvn8S"
      },
      "execution_count": 33,
      "outputs": []
    },
    {
      "cell_type": "code",
      "source": [
        "logging.basicConfig(level=logging.INFO)\n",
        "module_url = \"https://tfhub.dev/tensorflow/bert_en_uncased_L-24_H-1024_A-16/1\"\n",
        "bert_layer = hub.KerasLayer(module_url, trainable=True)"
      ],
      "metadata": {
        "id": "g8P2cuEkv-IL"
      },
      "execution_count": 34,
      "outputs": []
    },
    {
      "cell_type": "code",
      "source": [
        "train = pd.read_csv('data.csv')\n",
        "train.columns = ['Phrase', 'Sentiment']"
      ],
      "metadata": {
        "id": "xeOpOyStv9Ce"
      },
      "execution_count": 35,
      "outputs": []
    },
    {
      "cell_type": "code",
      "source": [
        "def clean(df):\n",
        "  nltk.download('stopwords')\n",
        "  for i in range(df.shape[0]):\n",
        "    review = re.sub('[^a-zA-Z]', ' ', df['Phrase'][i])\n",
        "    review = review.lower()\n",
        "    review = review.split()\n",
        "    ps = PorterStemmer()\n",
        "    all_stopwords = stopwords.words('english')\n",
        "    all_stopwords.remove('not')\n",
        "    review = [ps.stem(word) for word in review if not word in set(all_stopwords)]\n",
        "    review = ' '.join(review)\n",
        "    df['Phrase'][i] = review\n",
        "  return df"
      ],
      "metadata": {
        "id": "3Txc2E315p0Z"
      },
      "execution_count": 36,
      "outputs": []
    },
    {
      "cell_type": "code",
      "source": [
        "data = clean(train)\n",
        "train = data\n",
        "encoded_dict = {'negative': 0, 'neutral': 1, 'positive': 2}\n",
        "train['Sentiment'] = train.Sentiment.map(encoded_dict)"
      ],
      "metadata": {
        "colab": {
          "base_uri": "https://localhost:8080/"
        },
        "id": "oD6R1UG_6H3Q",
        "outputId": "348229b8-390d-4e71-a4cb-5496bb298b25"
      },
      "execution_count": 37,
      "outputs": [
        {
          "output_type": "stream",
          "name": "stderr",
          "text": [
            "[nltk_data] Downloading package stopwords to /root/nltk_data...\n",
            "[nltk_data]   Package stopwords is already up-to-date!\n"
          ]
        }
      ]
    },
    {
      "cell_type": "code",
      "source": [
        "vocab_file = bert_layer.resolved_object.vocab_file.asset_path.numpy()\n",
        "do_lower_case = bert_layer.resolved_object.do_lower_case.numpy()\n",
        "tokenizer = tokenization.FullTokenizer(vocab_file, do_lower_case)\n",
        "\n",
        "def bert_encode(texts, tokenizer, max_len=512):\n",
        "  all_tokens = []\n",
        "  all_masks = []\n",
        "  all_segments = []\n",
        "  \n",
        "  for text in texts:\n",
        "    text = tokenizer.tokenize(text)\n",
        "        \n",
        "    text = text[:max_len-2]\n",
        "    input_sequence = [\"[CLS]\"] + text + [\"[SEP]\"]\n",
        "    pad_len = max_len - len(input_sequence)\n",
        "    \n",
        "    tokens = tokenizer.convert_tokens_to_ids(input_sequence) + [0] * pad_len\n",
        "    pad_masks = [1] * len(input_sequence) + [0] * pad_len\n",
        "    segment_ids = [0] * max_len\n",
        "    \n",
        "    all_tokens.append(tokens)\n",
        "    all_masks.append(pad_masks)\n",
        "    all_segments.append(segment_ids)\n",
        "  \n",
        "  return np.array(all_tokens), np.array(all_masks), np.array(all_segments)\n",
        "\n",
        "def build_model(bert_layer, max_len = 512):\n",
        "  input_word_ids = Input(shape = (max_len,), dtype = tf.int32, name = \"input_word_ids\")\n",
        "  input_mask = Input(shape = (max_len,), dtype = tf.int32, name = \"input_mask\")\n",
        "  segment_ids = Input(shape = (max_len,), dtype = tf.int32, name = \"segment_ids\")\n",
        "\n",
        "  pooled_output, sequence_output = bert_layer([input_word_ids, input_mask, segment_ids])\n",
        "  clf_output = sequence_output[:, 0, :]\n",
        "  net = Dense(64, activation = 'relu')(clf_output)\n",
        "  net = Dropout(0.2)(net)\n",
        "  net = Dense(32, activation = 'relu')(net)\n",
        "  net = Dropout(0.2)(net)\n",
        "  out = Dense(3, activation = 'softmax')(net)\n",
        "  \n",
        "  model = Model(inputs = [input_word_ids, input_mask, segment_ids], outputs=out)\n",
        "  model.compile(optimizer = 'adam', loss = 'categorical_crossentropy', metrics = ['accuracy'])\n",
        "  \n",
        "  return model"
      ],
      "metadata": {
        "id": "9_55tF57waCG"
      },
      "execution_count": 38,
      "outputs": []
    },
    {
      "cell_type": "code",
      "source": [
        "max_len = 150\n",
        "train_input = bert_encode(train.Phrase.values, tokenizer, max_len = max_len)\n",
        "train_labels = to_categorical(train.Sentiment.values, num_classes = 3)\n",
        "\n",
        "model = build_model(bert_layer, max_len = max_len)\n",
        "model.summary()"
      ],
      "metadata": {
        "colab": {
          "base_uri": "https://localhost:8080/"
        },
        "id": "jPu7T-W6w54r",
        "outputId": "0319cfb0-1d11-4ded-fc0b-a4ff7105c60d"
      },
      "execution_count": 39,
      "outputs": [
        {
          "output_type": "stream",
          "name": "stdout",
          "text": [
            "Model: \"model_6\"\n",
            "__________________________________________________________________________________________________\n",
            " Layer (type)                   Output Shape         Param #     Connected to                     \n",
            "==================================================================================================\n",
            " input_word_ids (InputLayer)    [(None, 150)]        0           []                               \n",
            "                                                                                                  \n",
            " input_mask (InputLayer)        [(None, 150)]        0           []                               \n",
            "                                                                                                  \n",
            " segment_ids (InputLayer)       [(None, 150)]        0           []                               \n",
            "                                                                                                  \n",
            " keras_layer_1 (KerasLayer)     [(None, 1024),       335141889   ['input_word_ids[0][0]',         \n",
            "                                 (None, 150, 1024)]               'input_mask[0][0]',             \n",
            "                                                                  'segment_ids[0][0]']            \n",
            "                                                                                                  \n",
            " tf.__operators__.getitem_6 (Sl  (None, 1024)        0           ['keras_layer_1[0][1]']          \n",
            " icingOpLambda)                                                                                   \n",
            "                                                                                                  \n",
            " dense_18 (Dense)               (None, 64)           65600       ['tf.__operators__.getitem_6[0][0\n",
            "                                                                 ]']                              \n",
            "                                                                                                  \n",
            " dropout_12 (Dropout)           (None, 64)           0           ['dense_18[0][0]']               \n",
            "                                                                                                  \n",
            " dense_19 (Dense)               (None, 32)           2080        ['dropout_12[0][0]']             \n",
            "                                                                                                  \n",
            " dropout_13 (Dropout)           (None, 32)           0           ['dense_19[0][0]']               \n",
            "                                                                                                  \n",
            " dense_20 (Dense)               (None, 3)            99          ['dropout_13[0][0]']             \n",
            "                                                                                                  \n",
            "==================================================================================================\n",
            "Total params: 335,209,668\n",
            "Trainable params: 335,209,667\n",
            "Non-trainable params: 1\n",
            "__________________________________________________________________________________________________\n"
          ]
        }
      ]
    },
    {
      "cell_type": "code",
      "source": [
        "earlystopping = EarlyStopping(monitor='val_accuracy', patience=5, verbose=1)\n",
        "\n",
        "train_history = model.fit(\n",
        "    train_input, train_labels, \n",
        "    validation_split=0.2,\n",
        "    epochs=3,\n",
        "    callbacks=[earlystopping],\n",
        "    batch_size=8,\n",
        "    verbose=1\n",
        ")"
      ],
      "metadata": {
        "colab": {
          "base_uri": "https://localhost:8080/"
        },
        "id": "FA9fRRlyxDsc",
        "outputId": "d1c37f0d-23ac-484a-aa92-408e61ac1a84"
      },
      "execution_count": 42,
      "outputs": [
        {
          "output_type": "stream",
          "name": "stdout",
          "text": [
            "Epoch 1/3\n",
            "585/585 [==============================] - 487s 833ms/step - loss: 1.0594 - accuracy: 0.5052 - val_loss: 0.9986 - val_accuracy: 0.5252\n",
            "Epoch 2/3\n",
            "585/585 [==============================] - 482s 824ms/step - loss: 0.9877 - accuracy: 0.5376 - val_loss: 0.9950 - val_accuracy: 0.5252\n",
            "Epoch 3/3\n",
            "585/585 [==============================] - 472s 807ms/step - loss: 0.9806 - accuracy: 0.5384 - val_loss: 0.9943 - val_accuracy: 0.5252\n"
          ]
        }
      ]
    }
  ]
}